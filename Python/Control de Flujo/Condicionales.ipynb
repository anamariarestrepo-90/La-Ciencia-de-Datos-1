{
 "cells": [
  {
   "cell_type": "code",
   "execution_count": 2,
   "metadata": {},
   "outputs": [
    {
     "name": "stdout",
     "output_type": "stream",
     "text": [
      " Es mayor de Edad\n"
     ]
    }
   ],
   "source": [
    "edadAlumno = 18\n",
    "if edadAlumno >= 18:\n",
    "    print (\" Es mayor de Edad\")\n",
    "else:\n",
    "        print(\"Es menor de Edad\")"
   ]
  },
  {
   "cell_type": "code",
   "execution_count": 9,
   "metadata": {},
   "outputs": [
    {
     "name": "stdout",
     "output_type": "stream",
     "text": [
      " Es mayor de Edad y su edad es :18\n"
     ]
    }
   ],
   "source": [
    "generoAlumno = \"F\"\n",
    "edadAlumno = 18\n",
    "if edadAlumno >= 15 or generoAlumno == \"f\":\n",
    "    print(\" Es mayor de Edad y su edad es :\" + str(edadAlumno))\n",
    "else:\n",
    "    print(\"Es menor de edad\")"
   ]
  },
  {
   "cell_type": "code",
   "execution_count": 24,
   "metadata": {},
   "outputs": [
    {
     "name": "stdout",
     "output_type": "stream",
     "text": [
      "Es mayor de edad y es hombre, su edad es 20 y vive en Medellin\n"
     ]
    }
   ],
   "source": [
    "generoAlumno = \"H\"\n",
    "edadAlumno = 20\n",
    "municipioAlumno = \"Medellin\"\n",
    "if edadAlumno >= 18 or generoAlumno == \"h\":\n",
    "    print (\"Es mayor de edad y es hombre, su edad es \" + str(edadAlumno)+ \" y vive en \" + municipioAlumno)\n",
    "else:\n",
    "    print (\" es menor de edad es mujer y no vive en Medellin\")"
   ]
  },
  {
   "cell_type": "code",
   "execution_count": 41,
   "metadata": {},
   "outputs": [
    {
     "name": "stdout",
     "output_type": "stream",
     "text": [
      "2\n"
     ]
    },
    {
     "data": {
      "text/plain": [
       "int"
      ]
     },
     "execution_count": 41,
     "metadata": {},
     "output_type": "execute_result"
    }
   ],
   "source": [
    "numeroTexto =\"2\"\n",
    "print( int(numeroTexto))\n",
    "type(int(numeroTexto))"
   ]
  },
  {
   "cell_type": "markdown",
   "metadata": {},
   "source": [
    "# Contador"
   ]
  },
  {
   "cell_type": "code",
   "execution_count": 15,
   "metadata": {},
   "outputs": [
    {
     "name": "stdout",
     "output_type": "stream",
     "text": [
      "0\n",
      "1\n",
      "2\n",
      "3\n",
      "4\n",
      "5\n",
      "6\n",
      "7\n",
      "8\n",
      "9\n",
      "10\n"
     ]
    }
   ],
   "source": [
    "contador = 0\n",
    "while  contador <=10:\n",
    "    print (contador)\n",
    "    contador += 1 "
   ]
  },
  {
   "cell_type": "code",
   "execution_count": 25,
   "metadata": {},
   "outputs": [
    {
     "name": "stdout",
     "output_type": "stream",
     "text": [
      "1\n",
      "2\n",
      "3\n",
      "4\n",
      "5\n",
      "6\n"
     ]
    }
   ],
   "source": [
    "ListaNumeros = [1,2,3,4,5,6]\n",
    "for numero in ListaNumeros:\n",
    "    print(numero)"
   ]
  },
  {
   "cell_type": "code",
   "execution_count": 26,
   "metadata": {},
   "outputs": [
    {
     "name": "stdout",
     "output_type": "stream",
     "text": [
      " El número es par y es el: 2\n",
      " El número es par y es el: 4\n",
      " El número es par y es el: 6\n"
     ]
    }
   ],
   "source": [
    "for numero in ListaNumeros:\n",
    "    if numero % 2 ==0:\n",
    "        print (\" El número es par y es el: \" + str (numero))"
   ]
  },
  {
   "cell_type": "code",
   "execution_count": 38,
   "metadata": {},
   "outputs": [
    {
     "name": "stdout",
     "output_type": "stream",
     "text": [
      " El número es impar y es el: 1\n",
      " El número es par y es el: 2\n",
      " El número es impar y es el: 3\n",
      " El número es par y es el: 4\n",
      " El número es impar y es el: 5\n",
      "el numero es divisible por cinco: 5\n",
      " El número es par y es el: 6\n"
     ]
    }
   ],
   "source": [
    "for numero in ListaNumeros:\n",
    "    if numero % 2 ==0:\n",
    "        print (\" El número es par y es el: \" + str (numero)) \n",
    "    if numero  % 2!=0:\n",
    "        print (\" El número es impar y es el: \" + str (numero)) \n",
    "    if numero % 5 ==0:\n",
    "          print (\"el numero es divisible por cinco: \" + str (numero))\n",
    "\n",
    "    \n"
   ]
  },
  {
   "cell_type": "markdown",
   "metadata": {},
   "source": [
    "# Continue"
   ]
  },
  {
   "cell_type": "markdown",
   "metadata": {},
   "source": [
    "for numero in ListaNumeros:\n",
    "    if numero % 3 ==0:\n",
    "        continue\n",
    "    else:\n",
    "        print(numero)\n"
   ]
  },
  {
   "cell_type": "markdown",
   "metadata": {},
   "source": [
    "# Break"
   ]
  },
  {
   "cell_type": "code",
   "execution_count": 43,
   "metadata": {},
   "outputs": [
    {
     "name": "stdout",
     "output_type": "stream",
     "text": [
      "1\n",
      "2\n"
     ]
    }
   ],
   "source": [
    "for numero in ListaNumeros:\n",
    "    if numero % 3 ==0:\n",
    "        break\n",
    "    else:\n",
    "        print(numero)\n"
   ]
  },
  {
   "cell_type": "markdown",
   "metadata": {},
   "source": []
  },
  {
   "cell_type": "code",
   "execution_count": null,
   "metadata": {
    "collapsed": true
   },
   "outputs": [],
   "source": []
  }
 ],
 "metadata": {
  "kernelspec": {
   "display_name": "Python 3",
   "language": "python",
   "name": "python3"
  },
  "language_info": {
   "codemirror_mode": {
    "name": "ipython",
    "version": 3
   },
   "file_extension": ".py",
   "mimetype": "text/x-python",
   "name": "python",
   "nbconvert_exporter": "python",
   "pygments_lexer": "ipython3",
   "version": "3.6.1"
  }
 },
 "nbformat": 4,
 "nbformat_minor": 2
}
