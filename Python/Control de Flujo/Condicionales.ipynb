{
 "cells": [
  {
   "cell_type": "code",
   "execution_count": 2,
   "metadata": {},
   "outputs": [
    {
     "name": "stdout",
     "output_type": "stream",
     "text": [
      " Es mayor de Edad\n"
     ]
    }
   ],
   "source": [
    "edadAlumno = 18\n",
    "if edadAlumno >= 18:\n",
    "    print (\" Es mayor de Edad\")\n",
    "else:\n",
    "        print(\"Es menor de Edad\")"
   ]
  },
  {
   "cell_type": "code",
   "execution_count": 9,
   "metadata": {},
   "outputs": [
    {
     "name": "stdout",
     "output_type": "stream",
     "text": [
      " Es mayor de Edad y su edad es :18\n"
     ]
    }
   ],
   "source": [
    "generoAlumno = \"F\"\n",
    "edadAlumno = 18\n",
    "if edadAlumno >= 15 or generoAlumno == \"f\":\n",
    "    print(\" Es mayor de Edad y su edad es :\" + str(edadAlumno))\n",
    "else:\n",
    "    print(\"Es menor de edad\")"
   ]
  },
  {
   "cell_type": "code",
   "execution_count": 24,
   "metadata": {},
   "outputs": [
    {
     "name": "stdout",
     "output_type": "stream",
     "text": [
      "Es mayor de edad y es hombre, su edad es 20 y vive en Medellin\n"
     ]
    }
   ],
   "source": [
    "generoAlumno = \"H\"\n",
    "edadAlumno = 20\n",
    "municipioAlumno = \"Medellin\"\n",
    "if edadAlumno >= 18 or generoAlumno == \"h\":\n",
    "    print (\"Es mayor de edad y es hombre, su edad es \" + str(edadAlumno)+ \" y vive en \" + municipioAlumno)\n",
    "else:\n",
    "    print (\" es menor de edad es mujer y no vive en Medellin\")"
   ]
  },
  {
   "cell_type": "code",
   "execution_count": 41,
   "metadata": {},
   "outputs": [
    {
     "name": "stdout",
     "output_type": "stream",
     "text": [
      "2\n"
     ]
    },
    {
     "data": {
      "text/plain": [
       "int"
      ]
     },
     "execution_count": 41,
     "metadata": {},
     "output_type": "execute_result"
    }
   ],
   "source": [
    "numeroTexto =\"2\"\n",
    "print( int(numeroTexto))\n",
    "type(int(numeroTexto))"
   ]
  },
  {
   "cell_type": "markdown",
   "metadata": {},
   "source": [
    "# Contador"
   ]
  },
  {
   "cell_type": "code",
   "execution_count": 15,
   "metadata": {},
   "outputs": [
    {
     "name": "stdout",
     "output_type": "stream",
     "text": [
      "0\n",
      "1\n",
      "2\n",
      "3\n",
      "4\n",
      "5\n",
      "6\n",
      "7\n",
      "8\n",
      "9\n",
      "10\n"
     ]
    }
   ],
   "source": [
    "contador = 0\n",
    "while  contador <=10:\n",
    "    print (contador)\n",
    "    contador += 1 "
   ]
  },
  {
   "cell_type": "code",
   "execution_count": 25,
   "metadata": {},
   "outputs": [
    {
     "name": "stdout",
     "output_type": "stream",
     "text": [
      "1\n",
      "2\n",
      "3\n",
      "4\n",
      "5\n",
      "6\n"
     ]
    }
   ],
   "source": [
    "ListaNumeros = [1,2,3,4,5,6]\n",
    "for numero in ListaNumeros:\n",
    "    print(numero)"
   ]
  },
  {
   "cell_type": "code",
   "execution_count": 26,
   "metadata": {},
   "outputs": [
    {
     "name": "stdout",
     "output_type": "stream",
     "text": [
      " El número es par y es el: 2\n",
      " El número es par y es el: 4\n",
      " El número es par y es el: 6\n"
     ]
    }
   ],
   "source": [
    "for numero in ListaNumeros:\n",
    "    if numero % 2 ==0:\n",
    "        print (\" El número es par y es el: \" + str (numero))"
   ]
  },
  {
   "cell_type": "code",
   "execution_count": 38,
   "metadata": {},
   "outputs": [
    {
     "name": "stdout",
     "output_type": "stream",
     "text": [
      " El número es impar y es el: 1\n",
      " El número es par y es el: 2\n",
      " El número es impar y es el: 3\n",
      " El número es par y es el: 4\n",
      " El número es impar y es el: 5\n",
      "el numero es divisible por cinco: 5\n",
      " El número es par y es el: 6\n"
     ]
    }
   ],
   "source": [
    "for numero in ListaNumeros:\n",
    "    if numero % 2 ==0:\n",
    "        print (\" El número es par y es el: \" + str (numero)) \n",
    "    if numero  % 2!=0:\n",
    "        print (\" El número es impar y es el: \" + str (numero)) \n",
    "    if numero % 5 ==0:\n",
    "          print (\"el numero es divisible por cinco: \" + str (numero))\n",
    "\n",
    "    \n"
   ]
  },
  {
   "cell_type": "markdown",
   "metadata": {},
   "source": [
    "# Continue"
   ]
  },
  {
   "cell_type": "markdown",
   "metadata": {},
   "source": [
    "for numero in ListaNumeros:\n",
    "    if numero % 3 ==0:\n",
    "        continue\n",
    "    else:\n",
    "        print(numero)\n"
   ]
  },
  {
   "cell_type": "markdown",
   "metadata": {},
   "source": [
    "# Break"
   ]
  },
  {
   "cell_type": "code",
   "execution_count": 43,
   "metadata": {},
   "outputs": [
    {
     "name": "stdout",
     "output_type": "stream",
     "text": [
      "1\n",
      "2\n"
     ]
    }
   ],
   "source": [
    "for numero in ListaNumeros:\n",
    "    if numero % 3 ==0:\n",
    "        break\n",
    "    else:\n",
    "        print(numero)\n"
   ]
  },
  {
   "cell_type": "markdown",
   "metadata": {},
   "source": []
  },
  {
   "cell_type": "code",
   "execution_count": 6,
   "metadata": {},
   "outputs": [
    {
     "ename": "IndentationError",
     "evalue": "unindent does not match any outer indentation level (<ipython-input-6-a45cb0a7d5e7>, line 6)",
     "output_type": "error",
     "traceback": [
      "\u001b[1;36m  File \u001b[1;32m\"<ipython-input-6-a45cb0a7d5e7>\"\u001b[1;36m, line \u001b[1;32m6\u001b[0m\n\u001b[1;33m    ndiv=0\u001b[0m\n\u001b[1;37m          ^\u001b[0m\n\u001b[1;31mIndentationError\u001b[0m\u001b[1;31m:\u001b[0m unindent does not match any outer indentation level\n"
     ]
    }
   ],
   "source": [
    "def esnumeroprimo(Numero):\n",
    "       if Numero <= 2:\n",
    "            print (\"Por Favor ingrese un numero mayor a 2\")\n",
    "            return\n",
    "        \n",
    "        ndiv=0\n",
    "        for i in range (1, Numero +1):\n",
    "            if (Numero % i==0):\n",
    "                ndiv=ndiv+ 1\n",
    "                if(ndiv!=2):\n",
    "                    print(\"no es primo\")\n",
    "                    if(ndiv ==2):\n",
    "                        print(\" Es primo\")\n",
    "                \n",
    "        \n",
    "        \n",
    "    ndiv"
   ]
  },
  {
   "cell_type": "code",
   "execution_count": null,
   "metadata": {
    "collapsed": true
   },
   "outputs": [],
   "source": [
    "#Funcion con parametros de lista"
   ]
  },
  {
   "cell_type": "code",
   "execution_count": 11,
   "metadata": {},
   "outputs": [
    {
     "name": "stdout",
     "output_type": "stream",
     "text": [
      "2\n",
      "3\n",
      "donald\n",
      "True\n"
     ]
    }
   ],
   "source": [
    "def mifuncionLista (lista):\n",
    "        for elemento in lista:\n",
    "            print(elemento)\n",
    "miLista = [2,3, \"donald\", True]\n",
    "mifuncionLista(miLista)\n",
    "\n"
   ]
  },
  {
   "cell_type": "code",
   "execution_count": 12,
   "metadata": {},
   "outputs": [
    {
     "data": {
      "text/plain": [
       "4"
      ]
     },
     "execution_count": 12,
     "metadata": {},
     "output_type": "execute_result"
    }
   ],
   "source": [
    "def funcionParametroDefecto(numero, potencia = 2):\n",
    "    return numero ** potencia\n",
    "funcionParametroDefecto (2)\n"
   ]
  },
  {
   "cell_type": "code",
   "execution_count": 16,
   "metadata": {},
   "outputs": [
    {
     "data": {
      "text/plain": [
       "8"
      ]
     },
     "execution_count": 16,
     "metadata": {},
     "output_type": "execute_result"
    }
   ],
   "source": [
    "funcionParametroDefecto (2,3)"
   ]
  },
  {
   "cell_type": "code",
   "execution_count": 19,
   "metadata": {},
   "outputs": [
    {
     "data": {
      "text/plain": [
       "5.5"
      ]
     },
     "execution_count": 19,
     "metadata": {},
     "output_type": "execute_result"
    }
   ],
   "source": [
    "def miPromedio(valores):\n",
    "    return sum(valores) / len(valores)\n",
    "    \n",
    "valores = [2,4,6,10]\n",
    "miPromedio(valores)\n",
    "    "
   ]
  },
  {
   "cell_type": "code",
   "execution_count": 22,
   "metadata": {},
   "outputs": [
    {
     "name": "stdout",
     "output_type": "stream",
     "text": [
      "1\n",
      "2\n",
      "3\n",
      "4\n"
     ]
    }
   ],
   "source": [
    "def parametrosNoDeterminados(*args):\n",
    "    for elemento in args:\n",
    "        print(elemento)\n",
    "parametrosNoDeterminados(1,2,3,4)\n",
    "    "
   ]
  },
  {
   "cell_type": "code",
   "execution_count": 23,
   "metadata": {
    "collapsed": true
   },
   "outputs": [],
   "source": [
    "def parametrosDeterminados(param1,param2,param3,param4):\n",
    "    print(param1)\n",
    "    print(param2)\n",
    "    print(param3)\n",
    "    print(param4)\n",
    "    "
   ]
  },
  {
   "cell_type": "code",
   "execution_count": 24,
   "metadata": {},
   "outputs": [
    {
     "name": "stdout",
     "output_type": "stream",
     "text": [
      "1\n",
      "2\n",
      "3\n",
      "4\n"
     ]
    }
   ],
   "source": [
    "parametrosDeterminados(1,2,3,4)"
   ]
  },
  {
   "cell_type": "code",
   "execution_count": null,
   "metadata": {
    "collapsed": true
   },
   "outputs": [],
   "source": [
    "miDiccionario = {\"a\" : \"1\"}\n",
    "parametrosNoDeterminados(2,3 miDiccionario)"
   ]
  },
  {
   "cell_type": "code",
   "execution_count": 27,
   "metadata": {},
   "outputs": [
    {
     "name": "stdout",
     "output_type": "stream",
     "text": [
      "[2, 8, 4, 7]\n",
      "[2, 4, 7, 8]\n"
     ]
    }
   ],
   "source": [
    "listaDesordenada = [2,8,4,7]\n",
    "print (listaDesordenada)\n",
    "print (sorted (listaDesordenada))"
   ]
  },
  {
   "cell_type": "code",
   "execution_count": 30,
   "metadata": {},
   "outputs": [
    {
     "name": "stdout",
     "output_type": "stream",
     "text": [
      "4\n"
     ]
    }
   ],
   "source": [
    "numeroFraccionario = 3.959\n",
    "numeroRendondeo = round(numeroFraccionario)\n",
    "print(numeroRendondeo)"
   ]
  },
  {
   "cell_type": "code",
   "execution_count": 35,
   "metadata": {},
   "outputs": [
    {
     "ename": "IndentationError",
     "evalue": "unexpected indent (<ipython-input-35-dcfb0f334d6f>, line 11)",
     "output_type": "error",
     "traceback": [
      "\u001b[1;36m  File \u001b[1;32m\"<ipython-input-35-dcfb0f334d6f>\"\u001b[1;36m, line \u001b[1;32m11\u001b[0m\n\u001b[1;33m    if datos % 2== 0:\u001b[0m\n\u001b[1;37m    ^\u001b[0m\n\u001b[1;31mIndentationError\u001b[0m\u001b[1;31m:\u001b[0m unexpected indent\n"
     ]
    }
   ],
   "source": [
    "def miMediana(datos):\n",
    "\n",
    "    print (datos)\n",
    "    print (sorted (datos))\n",
    "    \n",
    "miMediana = [2,4,6,8,7]\n",
    "    \n",
    "datos =len(ord)\n",
    "mitad =n/2\n",
    "    \n",
    "    if datos % 2== 0:\n",
    "        \n",
    "miMediana=(sorted[mitad +1] + dOrder[middle+2]) / 2\n",
    "\n",
    "else:\n",
    "\n",
    "MiMediana=dOrder[middle+1]*1\n",
    "    "
   ]
  },
  {
   "cell_type": "code",
   "execution_count": null,
   "metadata": {
    "collapsed": true
   },
   "outputs": [],
   "source": []
  }
 ],
 "metadata": {
  "kernelspec": {
   "display_name": "Python 3",
   "language": "python",
   "name": "python3"
  },
  "language_info": {
   "codemirror_mode": {
    "name": "ipython",
    "version": 3
   },
   "file_extension": ".py",
   "mimetype": "text/x-python",
   "name": "python",
   "nbconvert_exporter": "python",
   "pygments_lexer": "ipython3",
   "version": "3.6.1"
  }
 },
 "nbformat": 4,
 "nbformat_minor": 2
}
