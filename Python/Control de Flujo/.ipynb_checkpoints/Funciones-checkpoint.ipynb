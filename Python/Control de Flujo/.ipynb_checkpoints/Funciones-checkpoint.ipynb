{
 "cells": [
  {
   "cell_type": "markdown",
   "metadata": {},
   "source": [
    "# FUNCIONES"
   ]
  },
  {
   "cell_type": "code",
   "execution_count": 1,
   "metadata": {},
   "outputs": [
    {
     "name": "stdout",
     "output_type": "stream",
     "text": [
      "Hola Mundo\n"
     ]
    }
   ],
   "source": [
    "def miFuncion():\n",
    "    print (\"Hola Mundo\")\n",
    "miFuncion()"
   ]
  },
  {
   "cell_type": "code",
   "execution_count": 8,
   "metadata": {},
   "outputs": [
    {
     "name": "stdout",
     "output_type": "stream",
     "text": [
      "Hola, Como estás Ana María\n"
     ]
    }
   ],
   "source": [
    "def SaludoPersonalizado(nombre):\n",
    "    print(\"Hola, Como estás\", nombre)\n",
    "SaludoPersonalizado(\"Ana María\")\n"
   ]
  },
  {
   "cell_type": "code",
   "execution_count": 9,
   "metadata": {},
   "outputs": [
    {
     "name": "stdout",
     "output_type": "stream",
     "text": [
      "Hola, Como estás Ana\n",
      "Hola, Como estás María\n",
      "Hola, Como estás Ana María\n"
     ]
    }
   ],
   "source": [
    "SaludoPersonalizado(\"Ana\")\n",
    "SaludoPersonalizado(\"María\")\n",
    "SaludoPersonalizado(\"Ana María\")"
   ]
  },
  {
   "cell_type": "code",
   "execution_count": 10,
   "metadata": {},
   "outputs": [
    {
     "name": "stdout",
     "output_type": "stream",
     "text": [
      "Hola, Como estás Mario\n"
     ]
    }
   ],
   "source": [
    "def SaludoConFuncion (funcion, nombre):\n",
    "    funcion(nombre)\n",
    "SaludoConFuncion(SaludoPersonalizado, \"Mario\")"
   ]
  },
  {
   "cell_type": "code",
   "execution_count": 12,
   "metadata": {},
   "outputs": [
    {
     "data": {
      "text/plain": [
       "4"
      ]
     },
     "execution_count": 12,
     "metadata": {},
     "output_type": "execute_result"
    }
   ],
   "source": [
    "def elevarPotencia (numero, potencia):\n",
    "    return numero ** potencia \n",
    "elevarPotencia (2,2)"
   ]
  },
  {
   "cell_type": "code",
   "execution_count": 15,
   "metadata": {},
   "outputs": [
    {
     "name": "stdout",
     "output_type": "stream",
     "text": [
      "10\n"
     ]
    }
   ],
   "source": [
    "def miFuncionDetener(numero):\n",
    "    if numero is None:\n",
    "        return\n",
    "    else:\n",
    "        print(numero)\n",
    "numero = 10\n",
    "miFuncionDetener (numero)"
   ]
  },
  {
   "cell_type": "code",
   "execution_count": 18,
   "metadata": {},
   "outputs": [
    {
     "ename": "IndentationError",
     "evalue": "expected an indented block (<ipython-input-18-ca9c9abcf9e8>, line 9)",
     "output_type": "error",
     "traceback": [
      "\u001b[1;36m  File \u001b[1;32m\"<ipython-input-18-ca9c9abcf9e8>\"\u001b[1;36m, line \u001b[1;32m9\u001b[0m\n\u001b[1;33m    if numero % 2 ==0:\u001b[0m\n\u001b[1;37m     ^\u001b[0m\n\u001b[1;31mIndentationError\u001b[0m\u001b[1;31m:\u001b[0m expected an indented block\n"
     ]
    }
   ],
   "source": [
    "def isPrimo(numero):\n",
    "    if numero < 2:\n",
    "        return True \n",
    "    else:\n",
    "        print \n",
    "    \n",
    "    for n in range(2,numero):\n",
    "        \n",
    "    if numero % 2 ==0:\n",
    "\n",
    "        return False\n",
    "    \n",
    "    elif(numero == numero -1):\n",
    "        \n",
    "        return True\n",
    "\n",
    "    \n",
    "\n",
    "        "
   ]
  },
  {
   "cell_type": "code",
   "execution_count": 19,
   "metadata": {},
   "outputs": [
    {
     "ename": "SyntaxError",
     "evalue": "invalid syntax (<ipython-input-19-8b46b5d78732>, line 1)",
     "output_type": "error",
     "traceback": [
      "\u001b[1;36m  File \u001b[1;32m\"<ipython-input-19-8b46b5d78732>\"\u001b[1;36m, line \u001b[1;32m1\u001b[0m\n\u001b[1;33m    def isPrimo(numero)\u001b[0m\n\u001b[1;37m                       ^\u001b[0m\n\u001b[1;31mSyntaxError\u001b[0m\u001b[1;31m:\u001b[0m invalid syntax\n"
     ]
    }
   ],
   "source": [
    "def isPrimo(numero)\n",
    "\n",
    "a=0\n",
    "n=int(input(\"Ingrese numero\\n\"))\n",
    "for i in range(1,n+1):\n",
    "    \n",
    " if ( n % isPrimo ==0):\n",
    " a=a+1\n",
    "\n",
    "if(a!=2):\n",
    " print(\"No es primo\")\n",
    "\n",
    "else:\n",
    "    \n",
    " print(\"si es primo\")\n"
   ]
  },
  {
   "cell_type": "code",
   "execution_count": 20,
   "metadata": {},
   "outputs": [
    {
     "name": "stdout",
     "output_type": "stream",
     "text": [
      "1\n",
      "2\n",
      "3\n",
      "4\n",
      "5\n",
      "6\n"
     ]
    }
   ],
   "source": [
    "ListaNumeros = [1,2,3,4,5,6]\n",
    "for numero in ListaNumeros:\n",
    "    print(numero)\n"
   ]
  },
  {
   "cell_type": "code",
   "execution_count": null,
   "metadata": {
    "collapsed": true
   },
   "outputs": [],
   "source": [
    "def isPrimo (ListaNumeros)\n",
    " if ( ListaNumeros % )\n"
   ]
  }
 ],
 "metadata": {
  "kernelspec": {
   "display_name": "Python 3",
   "language": "python",
   "name": "python3"
  },
  "language_info": {
   "codemirror_mode": {
    "name": "ipython",
    "version": 3
   },
   "file_extension": ".py",
   "mimetype": "text/x-python",
   "name": "python",
   "nbconvert_exporter": "python",
   "pygments_lexer": "ipython3",
   "version": "3.6.1"
  }
 },
 "nbformat": 4,
 "nbformat_minor": 2
}
